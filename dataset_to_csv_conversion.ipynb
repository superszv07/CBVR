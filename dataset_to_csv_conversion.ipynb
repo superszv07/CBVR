{
 "cells": [
  {
   "cell_type": "code",
   "execution_count": 2,
   "id": "9a304014-de27-44e9-8e75-c3cd18ee590b",
   "metadata": {},
   "outputs": [
    {
     "name": "stdout",
     "output_type": "stream",
     "text": [
      "UCF101 dataset has been labeled and saved to 'ucf101_labeled_data.csv'\n"
     ]
    }
   ],
   "source": [
    "import os\n",
    "import pandas as pd\n",
    "\n",
    "# Path to the UCF101 dataset\n",
    "dataset_path = 'UCF-101'\n",
    "\n",
    "# Create a list to store the video file names and their corresponding labels\n",
    "data = []\n",
    "\n",
    "# Traverse through the subfolders (labels) and video files\n",
    "for label_folder in os.listdir(dataset_path):\n",
    "    label_path = os.path.join(dataset_path, label_folder)\n",
    "    \n",
    "    # Ensure the item is a folder (label)\n",
    "    if os.path.isdir(label_path):\n",
    "        # Iterate through all video files in the folder\n",
    "        for video_file in os.listdir(label_path):\n",
    "            video_path = os.path.join(label_path, video_file)\n",
    "            \n",
    "            # Ensure it is a file (video)\n",
    "            if os.path.isfile(video_path):\n",
    "                # Add the video file and its corresponding label (folder name) to the list\n",
    "                data.append({'Video File': video_file, 'Label': label_folder})\n",
    "\n",
    "# Convert the list to a DataFrame\n",
    "df = pd.DataFrame(data)\n",
    "\n",
    "# Save the DataFrame to a CSV file\n",
    "df.to_csv('ucf101_labeled_data.csv', index=False)\n",
    "\n",
    "print(\"UCF101 dataset has been labeled and saved to 'ucf101_labeled_data.csv'\")"
   ]
  },
  {
   "cell_type": "code",
   "execution_count": 3,
   "id": "cfe8c812-e544-499d-98e9-e175b50b7571",
   "metadata": {},
   "outputs": [
    {
     "name": "stdout",
     "output_type": "stream",
     "text": [
      "Train and test data have been split and saved.\n"
     ]
    }
   ],
   "source": [
    "import pandas as pd\n",
    "from sklearn.model_selection import train_test_split\n",
    "\n",
    "# Load the CSV file into a DataFrame\n",
    "df = pd.read_csv('ucf101_labeled_data.csv')\n",
    "\n",
    "# Split the data into train and test sets\n",
    "train_df, test_df = train_test_split(df, test_size=0.2, stratify=df['Label'], random_state=42)\n",
    "\n",
    "# Save the train and test splits to separate CSV files\n",
    "train_df.to_csv('ucf101_train_data.csv', index=False)\n",
    "test_df.to_csv('ucf101_test_data.csv', index=False)\n",
    "\n",
    "print(\"Train and test data have been split and saved.\")"
   ]
  },
  {
   "cell_type": "code",
   "execution_count": null,
   "id": "a1f4dbae-fdbd-4752-8ab3-c0f2212cafb5",
   "metadata": {},
   "outputs": [],
   "source": []
  }
 ],
 "metadata": {
  "kernelspec": {
   "display_name": "Python 3 (ipykernel)",
   "language": "python",
   "name": "python3"
  },
  "language_info": {
   "codemirror_mode": {
    "name": "ipython",
    "version": 3
   },
   "file_extension": ".py",
   "mimetype": "text/x-python",
   "name": "python",
   "nbconvert_exporter": "python",
   "pygments_lexer": "ipython3",
   "version": "3.12.3"
  }
 },
 "nbformat": 4,
 "nbformat_minor": 5
}
